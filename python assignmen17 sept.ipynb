{
 "cells": [
  {
   "cell_type": "code",
   "execution_count": 1,
   "id": "1ceb0e58-8ab8-4aea-9319-67c0c719ed91",
   "metadata": {},
   "outputs": [
    {
     "name": "stdout",
     "output_type": "stream",
     "text": [
      "1\n",
      "2\n",
      "3\n",
      "4\n",
      "5\n",
      "6\n",
      "7\n",
      "8\n",
      "9\n",
      "10\n"
     ]
    }
   ],
   "source": [
    "for i in range(1, 11):\n",
    "    print(i)"
   ]
  },
  {
   "cell_type": "code",
   "execution_count": 2,
   "id": "77b6dc01-0e20-4b50-9df7-d9091a1afa07",
   "metadata": {},
   "outputs": [
    {
     "ename": "SyntaxError",
     "evalue": "invalid syntax (889120366.py, line 1)",
     "output_type": "error",
     "traceback": [
      "\u001b[0;36m  Cell \u001b[0;32mIn[2], line 1\u001b[0;36m\u001b[0m\n\u001b[0;31m    for loop is used to iterate over a sequence of items. while loop is used to repeatedly execute a block of statements while a\u001b[0m\n\u001b[0m             ^\u001b[0m\n\u001b[0;31mSyntaxError\u001b[0m\u001b[0;31m:\u001b[0m invalid syntax\n"
     ]
    }
   ],
   "source": [
    "for loop is used to iterate over a sequence of items. while loop is used to repeatedly execute a block of statements while a\n",
    "condition is true"
   ]
  },
  {
   "cell_type": "code",
   "execution_count": null,
   "id": "71cf2fdf-fbe0-422c-bb54-2c92b9c68e74",
   "metadata": {},
   "outputs": [],
   "source": [
    "sum = 0\n",
    "for i in range(1, 101):\n",
    "    sum = sum + i\n",
    "    print(sum)"
   ]
  },
  {
   "cell_type": "code",
   "execution_count": null,
   "id": "0910f9c4-e0c4-4381-b1e2-49d483ef03e2",
   "metadata": {},
   "outputs": [],
   "source": [
    "def multiplylist(mylist):\n",
    "    result = 1\n",
    "    for x in mylist:\n",
    "        result = result*x\n",
    "    return result\n",
    "list1 = [1,2,3]\n",
    "list2 = [3,2,4]\n",
    "print(multiplylist(list1))\n",
    "print(multiplylist(list2))"
   ]
  },
  {
   "cell_type": "code",
   "execution_count": null,
   "id": "7cd00348-6682-4d91-97a9-fdb213ef1dc9",
   "metadata": {},
   "outputs": [],
   "source": [
    "for even_numbers in range(2,21,2):\n",
    "    print(even_numbers,end='')"
   ]
  },
  {
   "cell_type": "code",
   "execution_count": null,
   "id": "0c4ec96e-878c-4606-abbb-ab2da5337e40",
   "metadata": {},
   "outputs": [],
   "source": [
    "n = int(input(\"enter a number:\"))\n",
    "factorial = 1\n",
    "if n >= 1:\n",
    "    for i in range (1, n+1):\n",
    "        factorial=factorial*i\n",
    "    print(\"factorial of the given number is:\",factorial)"
   ]
  },
  {
   "cell_type": "code",
   "execution_count": null,
   "id": "07bcba41-8274-4947-b217-0e4df3d5fd7d",
   "metadata": {},
   "outputs": [],
   "source": [
    "# python program to iterate over characters of a string\n",
    "string_name = \"jaihanuman\"\n",
    "for element in string_name:\n",
    "    print(element, end='')\n",
    "print(\"\\n\")\n",
    "string_name = \"hanuman\"\n",
    "for element in range(0,len(string_name)):\n",
    "    print(string_name[element])"
   ]
  },
  {
   "cell_type": "code",
   "execution_count": null,
   "id": "1e352185-fcb3-45f6-8ab3-c15b201ae38d",
   "metadata": {},
   "outputs": [],
   "source": [
    "#python programe to find latgest number\n",
    "list1 = [10,20,4,45,99]\n",
    "list1.sort()\n",
    "print(\"largest element is:\",list1[-1])"
   ]
  },
  {
   "cell_type": "code",
   "execution_count": null,
   "id": "7931c098-d7e3-4098-8085-a33b52ba5d2e",
   "metadata": {},
   "outputs": [],
   "source": [
    "#programe to display the fibonacci sequence\n",
    "nterms = int(input(\"how many terms?\"))\n",
    "n1,n2 = 0,1\n",
    "count = 0\n",
    "if nterms <= 0:\n",
    "    print(\"please enter a positive integer\")\n",
    "elif nterms == 1:\n",
    "    print(\"fibonacci sequence upto\",nterms,\":\")\n",
    "    print(n1)\n",
    "else:\n",
    "    print(\"fibonacci sequence:\")\n",
    "    while count < nterms:\n",
    "        print(n1)\n",
    "        nth = n1+n2\n",
    "        n1=n2\n",
    "        n2=nth\n",
    "        count+=1"
   ]
  },
  {
   "cell_type": "code",
   "execution_count": null,
   "id": "38d95065-86b3-42a3-8d5c-771a320bd278",
   "metadata": {},
   "outputs": [],
   "source": [
    "#python programe to count number of vowels in a string\n",
    "string = input('enter the string:')\n",
    "count = 0\n",
    "string=string.lower()\n",
    "for i in string:\n",
    "    if i == 'a' or i == 'e' or i == 'i' or i == 'o' or i == 'u':\n",
    "        count+=1\n",
    "    if count == 0:\n",
    "        print('no vowels found')\n",
    "    else:\n",
    "        print('total vowels are :'+ str(count))"
   ]
  },
  {
   "cell_type": "code",
   "execution_count": null,
   "id": "c19573e3-afc9-4f3d-b186-1e443f319084",
   "metadata": {},
   "outputs": [],
   "source": [
    "number=int(input(\"10:\"))\n",
    "print(\"the multiplication table of:\",10)\n",
    "for count in range(1,11):\n",
    "    print(number,'x',count,'=',number*count)\n",
    "           "
   ]
  },
  {
   "cell_type": "code",
   "execution_count": null,
   "id": "8e60b7d6-99fb-4176-9f52-b01068407a6e",
   "metadata": {},
   "outputs": [],
   "source": [
    "mylist = ['apple', 'banana', 'cherry', 'mango']\n",
    "reversedlist = []\n",
    "for i in range(len(mylist)):\n",
    "    reversedlist.append(mylist[len(mylist) - i - 1])\n",
    "print(f'original list : {mylist}')\n",
    "print(f'reversed list : {reversedlist}')"
   ]
  },
  {
   "cell_type": "code",
   "execution_count": null,
   "id": "903bb8ca-4511-4fbd-969e-fdd713a649a0",
   "metadata": {},
   "outputs": [],
   "source": [
    "def common_member(a,b):\n",
    "    a_set = set(a)\n",
    "    b_set = set(b)\n",
    "    if (a_set & b_set):\n",
    "        print(a_set & b_set)\n",
    "    else:\n",
    "        print(\"no common element\")\n",
    "a = [1,2,3,4,5]\n",
    "b = [5,6,7,8,9]\n",
    "common_member(a,b)\n",
    "a = [1,2,3,4,5]\n",
    "b = [6,7,8,9]\n",
    "common_member(a,b)"
   ]
  },
  {
   "cell_type": "code",
   "execution_count": null,
   "id": "c74af741-7510-4e1b-a46a-55859663398f",
   "metadata": {},
   "outputs": [],
   "source": [
    "num1 = 36\n",
    "num2 = 60\n",
    "gcd = 1\n",
    "for i in range(1, min(num1, num2)):\n",
    "    if num1 % i ==  0 and num2 % i == 0:  \n",
    "                                       gcd = 1\n",
    "print (\"gcd of \", num1, \"and\", num2, \"is\", gcd)"
   ]
  },
  {
   "cell_type": "code",
   "execution_count": null,
   "id": "75216de7-ac98-445d-817a-c0b5d6b32d31",
   "metadata": {},
   "outputs": [],
   "source": [
    "#python programe that check if a strig is palindrom\n",
    "string=input(\"enterstring:\")\n",
    "revstr=\"\"\n",
    "for i in string:\n",
    "    revstr=i+revstr\n",
    "print(\"reversedstring:\",revstr)\n",
    "if(string==revstr):\n",
    "    print(\"the string is panlindrome.\")\n",
    "else:\n",
    "        print(\"the string is not a palindrome.\")"
   ]
  },
  {
   "cell_type": "code",
   "execution_count": 3,
   "id": "9dc12197-60bf-482d-8683-e905aea0b3b7",
   "metadata": {},
   "outputs": [
    {
     "name": "stdout",
     "output_type": "stream",
     "text": [
      "[2, 4, 10, 20, 5]\n"
     ]
    }
   ],
   "source": [
    "# python programe to remove duplicate element\n",
    "def remove(duplicate):\n",
    "    final_list = []\n",
    "    for num in duplicate:\n",
    "        if num not in final_list:\n",
    "            final_list.append(num)\n",
    "    return final_list\n",
    "duplicate = [2,4,10,20,5,2,20,4]\n",
    "print(remove(duplicate))"
   ]
  },
  {
   "cell_type": "code",
   "execution_count": 4,
   "id": "83e11a42-f39f-4234-aad6-10c251a392e9",
   "metadata": {},
   "outputs": [
    {
     "name": "stdin",
     "output_type": "stream",
     "text": [
      "enter your own string: abhishek shukla\n"
     ]
    },
    {
     "name": "stdout",
     "output_type": "stream",
     "text": [
      "total number of words in this string =  1\n"
     ]
    }
   ],
   "source": [
    "#python programe to count total number of words in a string\n",
    "str1 = input(\"enter your own string:\")\n",
    "total = 1\n",
    "for i in range(len(str1)):\n",
    "    if(str1[i] == '' or str1 == '\\n' or str1 == '\\t'):\n",
    "        total = total+1\n",
    "print(\"total number of words in this string = \", total)"
   ]
  },
  {
   "cell_type": "code",
   "execution_count": 5,
   "id": "fd1e1bf1-2f3b-4da0-96de-e97d9f973cf3",
   "metadata": {},
   "outputs": [
    {
     "name": "stdin",
     "output_type": "stream",
     "text": [
      "enter year to be checked: 2001\n"
     ]
    },
    {
     "name": "stdout",
     "output_type": "stream",
     "text": [
      "the year is not a leap year!\n"
     ]
    }
   ],
   "source": [
    "#python programe to check if year is leap year\n",
    "year=int(input(\"enter year to be checked:\"))\n",
    "if(year%4==0 and year%100!=0 or year%400==0):\n",
    "    print(\"the year is a leap year!\")\n",
    "else:\n",
    "    print(\"the year is not a leap year!\")"
   ]
  },
  {
   "cell_type": "code",
   "execution_count": 6,
   "id": "6d2590e0-8ed7-49df-b403-b1fccf029527",
   "metadata": {},
   "outputs": [
    {
     "name": "stdout",
     "output_type": "stream",
     "text": [
      "3\n"
     ]
    }
   ],
   "source": [
    "#python ptogram to find the square root\n",
    "def floorsqrt(x):\n",
    "    if (x == 0 or x == 1):\n",
    "        return x\n",
    "    i = 1\n",
    "    result = 1\n",
    "    while(result <= x):\n",
    "        i += 1\n",
    "        result = i*i\n",
    "    return i - 1\n",
    "x = 11\n",
    "print(floorsqrt(x))"
   ]
  },
  {
   "cell_type": "code",
   "execution_count": 7,
   "id": "ba3d9587-f6e2-41d7-8973-5f14455d413b",
   "metadata": {},
   "outputs": [
    {
     "name": "stdout",
     "output_type": "stream",
     "text": [
      "lcm of 12 and 14 is 84\n"
     ]
    }
   ],
   "source": [
    "num1 = 12\n",
    "num2 = 14\n",
    "for i in range(max(num1, num2),1 + (num1*num2)):\n",
    "    if i % num1 ==i % num2 == 0:\n",
    "        lcm = i\n",
    "        break\n",
    "print(\"lcm of\", num1,\"and\", num2, \"is\", lcm)"
   ]
  },
  {
   "cell_type": "code",
   "execution_count": 8,
   "id": "9c5daed1-89e1-47a2-b32d-13ae8f8d3556",
   "metadata": {},
   "outputs": [
    {
     "name": "stdin",
     "output_type": "stream",
     "text": [
      "enter a number: 34\n"
     ]
    },
    {
     "name": "stdout",
     "output_type": "stream",
     "text": [
      "positive number\n"
     ]
    }
   ],
   "source": [
    "num = float(input(\"enter a number:\"))\n",
    "if num > 0:\n",
    "    print(\"positive number\")\n",
    "elif num ==0:\n",
    "    print(\"zero\")\n",
    "else:\n",
    "    print(\"negative number\")"
   ]
  },
  {
   "cell_type": "code",
   "execution_count": 9,
   "id": "f29d8e91-1d70-4981-91e1-3e8121851b69",
   "metadata": {},
   "outputs": [
    {
     "name": "stdin",
     "output_type": "stream",
     "text": [
      "enter a number: 15\n"
     ]
    },
    {
     "name": "stdout",
     "output_type": "stream",
     "text": [
      "15 is odd\n"
     ]
    }
   ],
   "source": [
    "#python programe to check if a number is odd or even\n",
    "num = int(input(\"enter a number:\"))\n",
    "if (num%2) == 0:\n",
    "    print(\"{0} is even\". format(NUM))\n",
    "else:\n",
    "    print(\"{0} is odd\".format(num))"
   ]
  },
  {
   "cell_type": "code",
   "execution_count": 10,
   "id": "d66a7b1c-d04b-4618-81f3-7a74502772c5",
   "metadata": {},
   "outputs": [
    {
     "name": "stdout",
     "output_type": "stream",
     "text": [
      "the largest number is 14\n"
     ]
    }
   ],
   "source": [
    "#python programe to find the largest among three numbers\n",
    "num1 = 10\n",
    "num2 = 14\n",
    "num3 = 12\n",
    "if (num1 >+ num2) and (num1 >= num3):\n",
    "    largest = num1\n",
    "elif (num2 >= num1) and (num2 >= num3):\n",
    "    largest = num2\n",
    "else:\n",
    "    largest = num3\n",
    "print(\"the largest number is\", largest)"
   ]
  },
  {
   "cell_type": "code",
   "execution_count": 11,
   "id": "608630b5-6497-4b43-95b8-6358b2b6ed3a",
   "metadata": {},
   "outputs": [
    {
     "name": "stdout",
     "output_type": "stream",
     "text": [
      "12\n"
     ]
    }
   ],
   "source": [
    "#python programe to calculate absolute value\n",
    "\n",
    "def findabsolute (n):\n",
    "    if (n < 0):\n",
    "        n = (-1) * n;\n",
    "    print(n);\n",
    "if __name__ == '__main__':\n",
    "    n = -12\n",
    "    findabsolute(n);"
   ]
  },
  {
   "cell_type": "code",
   "execution_count": 12,
   "id": "0324f456-a975-4d99-a222-94e1917d90cc",
   "metadata": {},
   "outputs": [
    {
     "name": "stdout",
     "output_type": "stream",
     "text": [
      "consonant\n",
      "vowel\n"
     ]
    }
   ],
   "source": [
    "def vowelorconsonant(x):\n",
    "    if (x =='a' or x == 'e' or x == 'i' or x == 'o' or x == 'u'):\n",
    "        print(\"vowel\")\n",
    "    else:\n",
    "        print(\"consonant\")\n",
    "vowelorconsonant('c')\n",
    "vowelorconsonant('e')\n",
    "        \n",
    "    "
   ]
  },
  {
   "cell_type": "code",
   "execution_count": 13,
   "id": "c95d46f9-b747-42e6-83ba-209679fbe117",
   "metadata": {},
   "outputs": [
    {
     "name": "stdin",
     "output_type": "stream",
     "text": [
      "enter age :  36\n"
     ]
    },
    {
     "name": "stdout",
     "output_type": "stream",
     "text": [
      "you are eligible  fot vote.\n"
     ]
    }
   ],
   "source": [
    "#python programe to input age and check eligibility for vote\n",
    "age = int(input(\"enter age : \"))\n",
    "if age>=18:\n",
    "    status=\"eligible\"\n",
    "else:\n",
    "    status=\"not eligible\"\n",
    "print(\"you are\", status,\" fot vote.\")\n",
    "    "
   ]
  },
  {
   "cell_type": "code",
   "execution_count": 14,
   "id": "17ff3962-0cb0-4769-a51f-94ee86127e25",
   "metadata": {},
   "outputs": [
    {
     "name": "stdin",
     "output_type": "stream",
     "text": [
      "enter the purchase amount: 8000\n"
     ]
    },
    {
     "name": "stdout",
     "output_type": "stream",
     "text": [
      "discount :  960.0\n",
      "net pay :  7040.0\n"
     ]
    }
   ],
   "source": [
    "#python programe to calculate discount based on purchase amount\n",
    "\n",
    "amt = int(input(\"enter the purchase amount:\"))\n",
    "if(amt>0):\n",
    "    if amt<=5000:\n",
    "        disc = amt*0.05\n",
    "    elif amt<=15000:\n",
    "        disc=amt*0.12\n",
    "    elif amt<=25000:\n",
    "        disc=0.2*amt\n",
    "    else:\n",
    "        disc=0.3*amt\n",
    "    print(\"discount : \",disc)\n",
    "    print(\"net pay : \",amt-disc)\n",
    "else:\n",
    "    print(\"invalid amount\")"
   ]
  },
  {
   "cell_type": "code",
   "execution_count": 15,
   "id": "876aa884-aeaa-439c-b490-3bacf91e8d8d",
   "metadata": {},
   "outputs": [
    {
     "ename": "SyntaxError",
     "evalue": "Missing parentheses in call to 'print'. Did you mean print(...)? (1728951219.py, line 12)",
     "output_type": "error",
     "traceback": [
      "\u001b[0;36m  Cell \u001b[0;32mIn[15], line 12\u001b[0;36m\u001b[0m\n\u001b[0;31m    print count (list1, l, r)\u001b[0m\n\u001b[0m    ^\u001b[0m\n\u001b[0;31mSyntaxError\u001b[0m\u001b[0;31m:\u001b[0m Missing parentheses in call to 'print'. Did you mean print(...)?\n"
     ]
    }
   ],
   "source": [
    "#python programe to check numbers in a list within a given range\n",
    "\n",
    "def count (list1, l, r):\n",
    "    c = o\n",
    "    for x in list1:\n",
    "        if x>= l and x<= r:\n",
    "            c+= 1\n",
    "    return c\n",
    "list1 = [10,20,30,40,50,40,40,60,70]\n",
    "l = 40\n",
    "r = 80\n",
    "print count (list1, l, r)"
   ]
  },
  {
   "cell_type": "code",
   "execution_count": null,
   "id": "6d4cd1f2-79aa-4518-8ded-445c75a2269b",
   "metadata": {},
   "outputs": [],
   "source": [
    "#python programe to calculate grade of a student\n",
    "\n",
    "sub1=int(input(\"enter marks of the first subject:\"))\n",
    "sub2=int(input(\"enter marks of the second subject:\"))\n",
    "sub3=int(input(\"enter marks of the third subject:\"))\n",
    "avg=(sub1+sub2+sub3)/3\n",
    "if(avg>=90):\n",
    "    print(\"grade: a\")\n",
    "elif(avg>=80&avg<90):\n",
    "    print(\"grade: b\")\n",
    "elif(avg>=70&avg<80):\n",
    "    print(\"grade: c\")\n",
    "elif(avg>=60&avg<70):\n",
    "    print(\"grade: d\")\n",
    "else:\n",
    "    print(\"grade: f\")"
   ]
  },
  {
   "cell_type": "code",
   "execution_count": null,
   "id": "dc7611c6-6b40-4a41-a745-ed7f355ddcba",
   "metadata": {},
   "outputs": [],
   "source": [
    "#python programe to check if string is empty or not\n",
    "\n",
    "test_str1 = \"\"\n",
    "test_str2 = \"\"\n",
    "print(\"the zero length string without spaces is empty ? :\", end=\"\")\n",
    "if(len(test_str1) ==0):\n",
    "    print(\"yes\")\n",
    "else:\n",
    "    print(\"no\")\n",
    "print(\"the zero length string with just spaces is empty? :\", end=\"\")\n",
    "if (len(test_str2) == 0):\n",
    "    print(\"yes\")\n",
    "else:\n",
    "    print(\"no\")"
   ]
  },
  {
   "cell_type": "code",
   "execution_count": null,
   "id": "c5d2a859-3bfd-4453-ac18-1a74aa13a345",
   "metadata": {},
   "outputs": [],
   "source": [
    "#python programe to check if the triangle is eqilateral or isoceles or scalen\n",
    "def checktriangle(x,y,z):\n",
    "    if x == y == z:\n",
    "        print(\"equilateral triangle\")\n",
    "    elif x == y or y == z or z == x:\n",
    "        print(\"iscosceles triangle\")\n",
    "    else:\n",
    "        print(\"scalene triangle\")\n",
    "x = 6\n",
    "y = 5\n",
    "z = 3\n",
    "checktriangle(x,y,z)"
   ]
  },
  {
   "cell_type": "code",
   "execution_count": null,
   "id": "a9a8f5b9-2522-4f81-b781-30d0381982f1",
   "metadata": {},
   "outputs": [],
   "source": [
    "#python programe to determine the days of the week\n",
    "\n",
    "weekday=int(input(\"enter weekday number(1-7):\"))\n",
    "if weekday==1:\n",
    "    print(\"\\nMonday\");\n",
    "if weekday==2:\n",
    "    print(\"\\nTuesday\")\n",
    "if weekday==3:\n",
    "    print(\"\\nWednesday\")\n",
    "if weekday==4:\n",
    "    print(\"\\nThursday\")\n",
    "if weekday==5:\n",
    "    print(\"\\nFriday\")\n",
    "if weekday==6:\n",
    "    print(\"\\nSaturday\")\n",
    "if weekday==7:\n",
    "    print(\"\\sunday\")\n",
    "else:\n",
    "    print(\"\\nEnter any weekday number(1-7)\")"
   ]
  },
  {
   "cell_type": "code",
   "execution_count": null,
   "id": "330a042b-da59-4ecd-88d9-05a445c9c337",
   "metadata": {},
   "outputs": [],
   "source": [
    "#puyhon programe to check the year is leap year\n",
    "\n",
    "year = 200\n",
    "if(year%400 == 0) or (year%4==0 and year%100!=0):\n",
    "    print(\"leap tear\")\n",
    "else:\n",
    "    print(\"not a leap year\")"
   ]
  },
  {
   "cell_type": "code",
   "execution_count": null,
   "id": "8e9951bd-eece-4315-8143-c97f0413ef2d",
   "metadata": {},
   "outputs": [],
   "source": [
    "#python programe to check senior discount\n",
    "\n",
    "def main():\n",
    "    age = eval(input(\"how old are you?:\"))\n",
    "    if age >= 70:\n",
    "        print(\"you qualify for a discount!\")\n",
    "        if state == \"Bihar\":\n",
    "            print(\"you qualify for a discount!\")\n",
    "    else:\n",
    "        print(\"you do not qualify for a discount!\")\n",
    "main()"
   ]
  },
  {
   "cell_type": "code",
   "execution_count": null,
   "id": "053348e0-9a40-4df1-bc10-80f4bf2b2fa8",
   "metadata": {},
   "outputs": [],
   "source": [
    "#python programe to check the given character is uppercase, lowercase or non alphabtic character\n",
    "\n",
    "def check(ch):\n",
    "    if (ch >= 'A' and ch <= 'Z'):\n",
    "        print(ch, \"is an uppercase character\");\n",
    "    elif (ch >= 'a' and ch <= 'z'):\n",
    "        print(ch, \"is an lowercase character\");\n",
    "    else:\n",
    "        print(ch, \"is not an alphabetic character\");\n",
    "ch = 'A';\n",
    "check(ch);\n",
    "ch = 'a';\n",
    "check(ch);\n",
    "ch = 'o';\n",
    "check(ch);"
   ]
  },
  {
   "cell_type": "code",
   "execution_count": null,
   "id": "6d2b3422-5a30-4d09-b13a-1fd3898b1bff",
   "metadata": {},
   "outputs": [],
   "source": [
    "#python programe to determine quadratic equation\n",
    "import math\n",
    "def equationroots(a,b,c):\n",
    "    dis = b*b - 4*a*c\n",
    "    sqrt_val = math.sqrt(abs(dis))\n",
    "    if dis > 0:\n",
    "        print(\"real and different roots\")\n",
    "        print((-b + sqrt_val)/(2*a))\n",
    "        print((-b - sqrt_val)/(2*a))\n",
    "    elif dis == 0:\n",
    "        print(\"real and same roots\")\n",
    "        print(-b / (2*a))\n",
    "    else:\n",
    "        print(\"complex roots\")\n",
    "        print(- b / (2*a), + i, sqrt_val)\n",
    "        print(- b / (2*a), - i, sqrt_val)\n",
    "a = 1\n",
    "b = 10\n",
    "c = -24\n",
    "if a == 0:\n",
    "    print(\"input correct quadratic equation\")\n",
    "else:\n",
    "    equationroots(a,b,c)"
   ]
  },
  {
   "cell_type": "code",
   "execution_count": null,
   "id": "488d4cc3-4ae7-472d-94f4-dce96b154c7b",
   "metadata": {},
   "outputs": [],
   "source": [
    "#python programe to determine if x is a perfect square\n",
    "\n",
    "import math\n",
    "def isperfectsquare(x):\n",
    "    if(x >= 0):\n",
    "        sr = int(math.sqrt(x))\n",
    "        return ((sr*sr) == x)\n",
    "    return false\n",
    "x = 2502\n",
    "if (isperfectsquare(x)):\n",
    "    print(\"yes\")\n",
    "else:\n",
    "    print(\"no\")"
   ]
  },
  {
   "cell_type": "code",
   "execution_count": null,
   "id": "37ce6faf-08db-499f-851a-2dd3eb5dcd35",
   "metadata": {},
   "outputs": [],
   "source": [
    "#python programe to calculate BMI\n",
    "def BMI(height, weight):\n",
    "    bmi = weight/(height**2)\n",
    "    return bmi\n",
    "height = 1.79832\n",
    "weight = 70\n",
    "bmi = BMI(height, weight)\n",
    "print(\"the BMI is\", format(bmi), \"so\", end='')\n",
    "if (bmi < 18.5):\n",
    "    print(\"underweight\")\n",
    "elif ( bmi >= 18.5 and bmi < 24.9):\n",
    "    print(\"healthy\")\n",
    "elif ( bmi >= 24.9 and bmi < 30):\n",
    "    print(\"overweight\")\n",
    "elif ( bmi >=30):\n",
    "    print(\"suffering from obesity\")\n",
    "    "
   ]
  },
  {
   "cell_type": "code",
   "execution_count": null,
   "id": "05f6637e-fffd-484d-919d-549e4809e2f3",
   "metadata": {},
   "outputs": [],
   "source": [
    "#python programe to check prime number\n",
    "\n",
    "num = 11\n",
    "if num>1:\n",
    "    for i in range(2, int(num/2)+1):\n",
    "        if (num % i) == 0:\n",
    "            print(num, \"is not a prime number\")\n",
    "            break\n",
    "        else:\n",
    "            print(num, \"is a prime number\")\n",
    "    else:\n",
    "        print(num, \"is not a prime number\")"
   ]
  },
  {
   "cell_type": "code",
   "execution_count": null,
   "id": "b9cfc0f4-72a1-4bbd-9f59-3a282140d7fe",
   "metadata": {},
   "outputs": [],
   "source": [
    "#python programe to square thge element of a list using map()\n",
    "\n",
    "def square_num(n):\n",
    "    return n*n\n",
    "nums = [4,5,2,9]\n",
    "print(\"original list:\",nums)\n",
    "result = map(square_num, nums)\n",
    "print(\"square the elememts of the said list using map():\")\n",
    "print(list(result))"
   ]
  },
  {
   "cell_type": "code",
   "execution_count": null,
   "id": "881504f8-36c8-45eb-ae92-a0f4a7e47fe4",
   "metadata": {},
   "outputs": [],
   "source": [
    "#python programe to convert all string from uppercase to lowercase\n",
    "\n",
    "out = map(lambda x:x.lower(), ['GeEk', 'FOR', 'gEEKS'])\n",
    "output = list(out)\n",
    "print(output)"
   ]
  },
  {
   "cell_type": "code",
   "execution_count": null,
   "id": "7e301b77-9db7-44d8-97c6-9cba58f2677f",
   "metadata": {},
   "outputs": [],
   "source": [
    "#temperature in celsius degree\n",
    "celsius = 47\n",
    "fahrenheit = (celsius * 1.8) + 32\n",
    "print('%.2f celsius is equivalent to: %.2f fahrenheit'\n",
    "      %(celsius, fahrenheit))"
   ]
  },
  {
   "cell_type": "code",
   "execution_count": null,
   "id": "2c4ce43d-1525-4e58-88aa-493dae3ec41b",
   "metadata": {},
   "outputs": [],
   "source": [
    "number = 111.23\n",
    "rounded_number = round(number)\n",
    "print(rounded_number)"
   ]
  },
  {
   "cell_type": "code",
   "execution_count": null,
   "id": "fd723dc4-4b21-4bb4-9185-c4326aadc27b",
   "metadata": {},
   "outputs": [],
   "source": [
    "#python programe to multiply numbers in list using reduce function\n",
    "from functools import reduce\n",
    "from operator import mul\n",
    "list1 = [2,3,4]\n",
    "result = reduce(mul, list1)\n",
    "print(result)"
   ]
  },
  {
   "cell_type": "code",
   "execution_count": null,
   "id": "2e4808a2-93f4-4446-8dca-3112a83b7f3e",
   "metadata": {},
   "outputs": [],
   "source": [
    "#python programe to find largest number in a list using reduce function\n",
    "\n",
    "from functools import reduce\n",
    "lst = [20, 10, 20, 4, 100]\n",
    "largest_element = reduce(max,lst)\n",
    "print(largest_element)"
   ]
  },
  {
   "cell_type": "code",
   "execution_count": null,
   "id": "5324b5cc-3eb0-4c1e-90b6-c779665c0ae8",
   "metadata": {},
   "outputs": [],
   "source": [
    "#p[ython programe to find factorial using reduce functuin\n",
    "\n",
    "from functools import reduce\n",
    "number = int(input('enter number:'))\n",
    "factorial = reduce(lambda x, y: x*y, range(1, number+1))\n",
    "print('%d != %d' %(number, factorial))"
   ]
  },
  {
   "cell_type": "code",
   "execution_count": null,
   "id": "35a23c68-210c-476a-aa82-1af578a3c17a",
   "metadata": {},
   "outputs": [],
   "source": [
    "#python programe to compute the sum of the digits in a number\n",
    "\n",
    "def getSum(n):\n",
    "    sum = 0\n",
    "    for digit in str(n):\n",
    "        sum += int(digit)\n",
    "    return sum\n",
    "n = 1345\n",
    "print(getSum(n))"
   ]
  },
  {
   "cell_type": "code",
   "execution_count": null,
   "id": "98df54a4-1a24-47a1-a451-77143bba412c",
   "metadata": {},
   "outputs": [],
   "source": [
    "#python programe to filter even values from a list\n",
    "\n",
    "lis = [1,2,3,4,5]\n",
    "out = []\n",
    "for num in lis:\n",
    "    if num % 2 == 0:\n",
    "        out.append(num)\n",
    "print(out)"
   ]
  },
  {
   "cell_type": "code",
   "execution_count": null,
   "id": "094e9cba-2d0b-4fe9-b75a-5e93bc9d2967",
   "metadata": {},
   "outputs": [],
   "source": [
    "#python programe to demostrate prefix sepration using list comprehensive\n",
    "\n",
    "test_list = ['sapple', 'orange', 'smango', 'grape']\n",
    "start_letter = 's'\n",
    "print(\"the original list: \" + str(test_list))\n",
    "with_s = [x for x in test_list if x.startswith(start_letter)]\n",
    "without_s = [x for x in test_list if x not in with_s]\n",
    "print(\"the list without prefix s : \" + str(without_s))\n",
    "print(\"the list with prefix s : \" + str(with_s))"
   ]
  },
  {
   "cell_type": "code",
   "execution_count": null,
   "id": "6b3bdead-1daa-46ec-9ad1-4b61b6c1e49b",
   "metadata": {},
   "outputs": [],
   "source": [
    "#factorial of a number using recursion\n",
    "\n",
    "def recur_factorial(n):\n",
    "    if n == 1:\n",
    "        return n\n",
    "    else:\n",
    "        return n*recur_factorial(n-1)\n",
    "num = 7\n",
    "if num < 0:\n",
    "    print(\"factorial does not exist for negative numbers\")\n",
    "elif num == 0:\n",
    "    print(\"the factorial of 0 is 1\")\n",
    "else:\n",
    "    print(\"the factorial of\", num, \"is\", recur_factorial(num))\n",
    "    "
   ]
  },
  {
   "cell_type": "code",
   "execution_count": null,
   "id": "bd8f6c1a-0f8d-49dd-90b9-5d7f753ce3e0",
   "metadata": {},
   "outputs": [],
   "source": [
    "#python program to find the nth fibonacci number using recursion\n",
    "\n",
    "def fibonacci(n):\n",
    "    if n<= 0:\n",
    "        print(\"incorrect input\")\n",
    "    elif n == 1:\n",
    "        return 0\n",
    "    elif n == 2:\n",
    "        return 1\n",
    "    else:\n",
    "        return fibonacci(n-1)+fibonacci(n-2)\n",
    "print(fibonacci(10))"
   ]
  },
  {
   "cell_type": "code",
   "execution_count": 17,
   "id": "816f0608-d055-446e-8ddc-135031e7537c",
   "metadata": {},
   "outputs": [
    {
     "name": "stdin",
     "output_type": "stream",
     "text": [
      "enter the number of elements for list: 4\n"
     ]
    },
    {
     "name": "stdout",
     "output_type": "stream",
     "text": [
      "the list is:\n",
      "[]\n",
      "sum of items in list:\n"
     ]
    },
    {
     "ename": "IndexError",
     "evalue": "list index out of range",
     "output_type": "error",
     "traceback": [
      "\u001b[0;31m---------------------------------------------------------------------------\u001b[0m",
      "\u001b[0;31mIndexError\u001b[0m                                Traceback (most recent call last)",
      "Cell \u001b[0;32mIn[17], line 16\u001b[0m\n\u001b[1;32m     14\u001b[0m \u001b[38;5;28mprint\u001b[39m(a)\n\u001b[1;32m     15\u001b[0m \u001b[38;5;28mprint\u001b[39m(\u001b[38;5;124m\"\u001b[39m\u001b[38;5;124msum of items in list:\u001b[39m\u001b[38;5;124m\"\u001b[39m)\n\u001b[0;32m---> 16\u001b[0m b\u001b[38;5;241m=\u001b[39m\u001b[43msum_arr\u001b[49m\u001b[43m(\u001b[49m\u001b[43ma\u001b[49m\u001b[43m,\u001b[49m\u001b[43mn\u001b[49m\u001b[43m)\u001b[49m\n\u001b[1;32m     17\u001b[0m \u001b[38;5;28mprint\u001b[39m(b)\n",
      "Cell \u001b[0;32mIn[17], line 7\u001b[0m, in \u001b[0;36msum_arr\u001b[0;34m(arr, size)\u001b[0m\n\u001b[1;32m      5\u001b[0m     \u001b[38;5;28;01mreturn\u001b[39;00m \u001b[38;5;241m0\u001b[39m\n\u001b[1;32m      6\u001b[0m \u001b[38;5;28;01melse\u001b[39;00m:\n\u001b[0;32m----> 7\u001b[0m     \u001b[38;5;28;01mreturn\u001b[39;00m \u001b[43marr\u001b[49m\u001b[43m[\u001b[49m\u001b[43msize\u001b[49m\u001b[38;5;241;43m-\u001b[39;49m\u001b[38;5;241;43m1\u001b[39;49m\u001b[43m]\u001b[49m\u001b[38;5;241m+\u001b[39msum_arr(arr,size\u001b[38;5;241m-\u001b[39m\u001b[38;5;241m1\u001b[39m)\n",
      "\u001b[0;31mIndexError\u001b[0m: list index out of range"
     ]
    }
   ],
   "source": [
    "#python programe to find the sum in a list using recusive\n",
    "\n",
    "def sum_arr(arr,size):\n",
    "    if(size == 0):\n",
    "        return 0\n",
    "    else:\n",
    "        return arr[size-1]+sum_arr(arr,size-1)\n",
    "n=int(input(\"enter the number of elements for list:\"))\n",
    "a=[]\n",
    "for i in range(9,n):\n",
    "    element=int(input(\"enter elements:\"))\n",
    "    a.append(element)\n",
    "print(\"the list is:\")\n",
    "print(a)\n",
    "print(\"sum of items in list:\")\n",
    "b=sum_arr(a,n)\n",
    "print(b)"
   ]
  },
  {
   "cell_type": "code",
   "execution_count": 18,
   "id": "c7d79227-8745-47e0-a703-7039e706bdb3",
   "metadata": {},
   "outputs": [
    {
     "name": "stdin",
     "output_type": "stream",
     "text": [
      "enter first number: 5\n",
      "enter second number: 20\n"
     ]
    },
    {
     "name": "stdout",
     "output_type": "stream",
     "text": [
      "GCD is:\n",
      "5\n"
     ]
    }
   ],
   "source": [
    "#python programe to find the gcd of two numbers using recusion\n",
    "\n",
    "def gcd(a,b):\n",
    "    if(b==0):\n",
    "        return a\n",
    "    else:\n",
    "        return gcd(b,a%b)\n",
    "a=int(input(\"enter first number:\"))\n",
    "b=int(input(\"enter second number:\"))\n",
    "GCD=gcd(a,b)\n",
    "print(\"GCD is:\")\n",
    "print(GCD)"
   ]
  },
  {
   "cell_type": "code",
   "execution_count": 20,
   "id": "42825795-a690-4de3-8e0a-4a4b0874f592",
   "metadata": {},
   "outputs": [
    {
     "name": "stdin",
     "output_type": "stream",
     "text": [
      "enter your string: jai hanuman\n"
     ]
    },
    {
     "name": "stdout",
     "output_type": "stream",
     "text": [
      "given string: jai hanuman\n",
      "reversed string: namunah iaj\n"
     ]
    }
   ],
   "source": [
    "#python programe to reverse a string using recursion\n",
    "\n",
    "def reverse_str(my_str):\n",
    "    if len(my_str) == 0:\n",
    "        return my_str\n",
    "    else:\n",
    "        return reverse_str(my_str[1:]) + my_str[0]\n",
    "my_string = input('enter your string:')\n",
    "print(f\"given string: {my_string}\")\n",
    "print(f\"reversed string: {reverse_str(my_string)}\")"
   ]
  },
  {
   "cell_type": "code",
   "execution_count": 22,
   "id": "29a8d21a-75b8-482d-b418-249f6b8a0da8",
   "metadata": {},
   "outputs": [
    {
     "name": "stdout",
     "output_type": "stream",
     "text": [
      "125\n"
     ]
    }
   ],
   "source": [
    "#python programe to find the power of a numner using recursion\n",
    "\n",
    "def power(n,p):\n",
    "    if p == 0:\n",
    "        return 1\n",
    "    return (n*power(n, p-1))\n",
    "if __name__ == '__main__':\n",
    "    n = 5\n",
    "    p = 3\n",
    "    print(power(n,p))"
   ]
  },
  {
   "cell_type": "code",
   "execution_count": 24,
   "id": "299ff22c-4fca-45b5-9a36-553d5934180b",
   "metadata": {},
   "outputs": [
    {
     "name": "stdout",
     "output_type": "stream",
     "text": [
      "ABC\n",
      "ACB\n",
      "BAC\n",
      "BCA\n",
      "CBA\n",
      "CAB\n"
     ]
    }
   ],
   "source": [
    "#python programe to find permutation in a list\n",
    "\n",
    "def tostring(list):\n",
    "    return ''.join(list)\n",
    "def permute(a, l, r):\n",
    "    if l == r:\n",
    "        print(tostring(a))\n",
    "    else:\n",
    "        for i in range(l, r):\n",
    "            a[l], a[i] = a[i], a[l]\n",
    "            permute(a,l+1, r)\n",
    "            a[l], a[i] = a[i], a[l]\n",
    "string = \"ABC\"\n",
    "n = len(string)\n",
    "a = list(string)\n",
    "permute(a, 0, n)"
   ]
  },
  {
   "cell_type": "code",
   "execution_count": 30,
   "id": "7ba1f58c-2cf3-4e1e-b6cd-cb05df66656b",
   "metadata": {},
   "outputs": [
    {
     "ename": "SyntaxError",
     "evalue": "Missing parentheses in call to 'print'. Did you mean print(...)? (2108002334.py, line 19)",
     "output_type": "error",
     "traceback": [
      "\u001b[0;36m  Cell \u001b[0;32mIn[30], line 19\u001b[0;36m\u001b[0m\n\u001b[0;31m    print \"Yes\"\u001b[0m\n\u001b[0m    ^\u001b[0m\n\u001b[0;31mSyntaxError\u001b[0m\u001b[0;31m:\u001b[0m Missing parentheses in call to 'print'. Did you mean print(...)?\n"
     ]
    }
   ],
   "source": [
    "#a recursive python programe to check whether a given number is palindrome or not\n",
    "\n",
    "def ispalrec(st, s, e):\n",
    "    if(s == e):\n",
    "        return true\n",
    "    if (st[s] != st[e]):\n",
    "        return false\n",
    "    if (s < e + 1) :\n",
    "        return ispalrec(st, s+1, e-1);\n",
    "    return true\n",
    "def ispalindrome(st):\n",
    "    n = len(st)\n",
    "    if (n == 0):\n",
    "        return true\n",
    "    \n",
    "    return ispalrec(st, 0, n-1);\n",
    "st = \"abhishek\"\n",
    "if (ispalindrome(st)) :\n",
    "    print \"Yes\"\n",
    "else :\n",
    "    print \"No\"\n",
    "    "
   ]
  },
  {
   "cell_type": "code",
   "execution_count": 2,
   "id": "70b6151f-40e3-41e4-ae63-44c97efa5060",
   "metadata": {},
   "outputs": [
    {
     "name": "stdout",
     "output_type": "stream",
     "text": [
      "[[], [55], [46], [55, 46], [47], [55, 47], [46, 47], [55, 46, 47], [89], [55, 89], [46, 89], [55, 46, 89], [47, 89], [55, 47, 89], [46, 47, 89], [55, 46, 47, 89], [76], [55, 76], [46, 76], [55, 46, 76], [47, 76], [55, 47, 76], [46, 47, 76], [55, 46, 47, 76], [89, 76], [55, 89, 76], [46, 89, 76], [55, 46, 89, 76], [47, 89, 76], [55, 47, 89, 76], [46, 47, 89, 76], [55, 46, 47, 89, 76]]\n"
     ]
    }
   ],
   "source": [
    "#python programe to get all number combination in a list using recursion\n",
    "\n",
    "def generate_combination_recursive(nums):\n",
    "    result = []\n",
    "    if not nums:\n",
    "        return [[]]\n",
    "    for i in generate_combination_recursive(nums[1:]):\n",
    "        result.append(i)\n",
    "        result.append([nums[0]] + i)\n",
    "    return result\n",
    "test_list = [55,46,47,89,76]\n",
    "print(generate_combination_recursive(test_list))\n",
    " "
   ]
  },
  {
   "cell_type": "code",
   "execution_count": 3,
   "id": "68c9979b-2579-4a5e-93e4-17d6bf4a536b",
   "metadata": {},
   "outputs": [
    {
     "name": "stdout",
     "output_type": "stream",
     "text": [
      "the sum is 38\n"
     ]
    }
   ],
   "source": [
    "#python programe to add two numbers using function\n",
    "\n",
    "def add_num(a,b):\n",
    "    sum=a+b;\n",
    "    return sum;\n",
    "num1=20\n",
    "num2=18\n",
    "print(\"the sum is\",add_num(num1,num2))"
   ]
  },
  {
   "cell_type": "code",
   "execution_count": 6,
   "id": "c235f198-a22c-49bf-9cfe-07d05c46b8e1",
   "metadata": {},
   "outputs": [
    {
     "name": "stdout",
     "output_type": "stream",
     "text": [
      "the product of two numbers is 276\n"
     ]
    }
   ],
   "source": [
    "#python function that takes two arguments and return their priduct\n",
    "\n",
    "def mult_two_num(a,b):\n",
    "    sum=a*b;\n",
    "    return sum;\n",
    "num1=23\n",
    "num2=12\n",
    "print(\"the product of two numbers is\", mult_two_num(num1,num2))"
   ]
  },
  {
   "cell_type": "code",
   "execution_count": 7,
   "id": "19203512-c729-4bde-aa2a-e0ce77e76811",
   "metadata": {},
   "outputs": [
    {
     "name": "stdout",
     "output_type": "stream",
     "text": [
      "hello world\n"
     ]
    }
   ],
   "source": [
    "#python programe that defines a function with default argument values\n",
    "\n",
    "def demo_function():\n",
    "    print(\"hello world\")\n",
    "demo_function()"
   ]
  },
  {
   "cell_type": "code",
   "execution_count": 8,
   "id": "71eaf1fb-e6d2-4f7e-9175-af6d3b24f686",
   "metadata": {},
   "outputs": [
    {
     "name": "stdout",
     "output_type": "stream",
     "text": [
      "sum is 6\n",
      "sum is 100\n",
      "sum is 35\n"
     ]
    }
   ],
   "source": [
    "#python programes to use variables length arguments in a function\n",
    "\n",
    "def add_num(*args):\n",
    "    sum = 0\n",
    "    for num in args:\n",
    "        sum += num\n",
    "    return sum\n",
    "result = add_num(1,2,3)\n",
    "print('sum is', result)\n",
    "result = add_num(10,20,30,40)\n",
    "print('sum is', result)\n",
    "result = add_num(5,6,7,8,9)\n",
    "print('sum is',result)"
   ]
  },
  {
   "cell_type": "code",
   "execution_count": 9,
   "id": "f6beee43-9065-4c31-8ecc-94f7224eede3",
   "metadata": {},
   "outputs": [
    {
     "name": "stdout",
     "output_type": "stream",
     "text": [
      "inside function i love my india\n",
      "outside function i love my india\n"
     ]
    }
   ],
   "source": [
    "#python programe that demonstrates the use of global variables within function\n",
    "\n",
    "def f():\n",
    "    print(\"inside function\" , s)\n",
    "s = \"i love my india\"\n",
    "f()\n",
    "print(\"outside function\", s)"
   ]
  },
  {
   "cell_type": "code",
   "execution_count": 10,
   "id": "beb08d72-bb9d-41fb-94a0-a13f2ea3a09c",
   "metadata": {},
   "outputs": [
    {
     "name": "stdout",
     "output_type": "stream",
     "text": [
      "factorial of 5 is 120\n"
     ]
    }
   ],
   "source": [
    "#find the factorial of a number using in-built function\n",
    "\n",
    "import math\n",
    "def factorial(n):\n",
    "    return(math.factorial(n))\n",
    "num = 5\n",
    "print(\"factorial of\" , num, \"is\", factorial(num))"
   ]
  },
  {
   "cell_type": "code",
   "execution_count": 11,
   "id": "2d12af03-b2d7-4131-adfe-8420037a29c0",
   "metadata": {},
   "outputs": [
    {
     "name": "stdout",
     "output_type": "stream",
     "text": [
      "original list of tuples:\n",
      "[('english', 78), ('science', 82), ('math', 92)]\n",
      "\n",
      "sorting the list of tuples:\n",
      "[('english', 78), ('science', 82), ('math', 92)]\n"
     ]
    }
   ],
   "source": [
    "#python programe to sort a list of tuples using lambda\n",
    "\n",
    "subject_marks = [('english', 78), ('science', 82), ('math',92)]\n",
    "print(\"original list of tuples:\")\n",
    "print(subject_marks)\n",
    "subject_marks.sort(key = lambda x: x[1])\n",
    "print(\"\\nsorting the list of tuples:\")\n",
    "print(subject_marks)"
   ]
  },
  {
   "cell_type": "code",
   "execution_count": 12,
   "id": "369f07e8-2630-42be-9937-8f2eadb271e5",
   "metadata": {},
   "outputs": [
    {
     "name": "stdout",
     "output_type": "stream",
     "text": [
      "[10, 13, 10]\n"
     ]
    }
   ],
   "source": [
    "#python programe to add two lists using map and lambda\n",
    "\n",
    "num1 = [3,4,5]\n",
    "num2 = [7,9,5]\n",
    "\n",
    "result = map(lambda x, y: x+y, num1, num2)\n",
    "print(list(result))"
   ]
  },
  {
   "cell_type": "code",
   "execution_count": 13,
   "id": "fb40e589-5a40-4a35-9077-bf6a3beb4559",
   "metadata": {},
   "outputs": [
    {
     "name": "stdout",
     "output_type": "stream",
     "text": [
      "[90, 68, 144, 90]\n"
     ]
    }
   ],
   "source": [
    "#python programe to demonstrate of map\n",
    "\n",
    "def addition(n):\n",
    "    return n + n\n",
    "numbers = (45,34,72,45)\n",
    "result = map(addition, numbers)\n",
    "print (list(result))"
   ]
  },
  {
   "cell_type": "code",
   "execution_count": 15,
   "id": "152c2027-effb-4ec3-881c-6d7eb34104e4",
   "metadata": {},
   "outputs": [
    {
     "name": "stdout",
     "output_type": "stream",
     "text": [
      "the product of the list elements is : 384\n",
      "the msximum element of the list is : 8\n"
     ]
    }
   ],
   "source": [
    "#python programe to find profuct ny using reduce function\n",
    "\n",
    "import functools\n",
    "lis = [2,4,6,8]\n",
    "print(\"the product of the list elements is : \", end=\"\")\n",
    "print(functools.reduce(lambda a,b: a*b, lis))\n",
    "print(\"the msximum element of the list is : \", end=\"\")\n",
    "print(functools.reduce(lambda a, b: a if a > b else b, lis))"
   ]
  },
  {
   "cell_type": "code",
   "execution_count": null,
   "id": "ec733b01-9283-48b5-8be8-495ed2992013",
   "metadata": {},
   "outputs": [],
   "source": []
  }
 ],
 "metadata": {
  "kernelspec": {
   "display_name": "Python 3 (ipykernel)",
   "language": "python",
   "name": "python3"
  },
  "language_info": {
   "codemirror_mode": {
    "name": "ipython",
    "version": 3
   },
   "file_extension": ".py",
   "mimetype": "text/x-python",
   "name": "python",
   "nbconvert_exporter": "python",
   "pygments_lexer": "ipython3",
   "version": "3.10.8"
  }
 },
 "nbformat": 4,
 "nbformat_minor": 5
}
